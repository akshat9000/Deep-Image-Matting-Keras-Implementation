{
 "cells": [
  {
   "cell_type": "code",
   "execution_count": 1,
   "metadata": {},
   "outputs": [],
   "source": [
    "import multiprocessing"
   ]
  },
  {
   "cell_type": "code",
   "execution_count": 2,
   "metadata": {},
   "outputs": [],
   "source": [
    "import cv2"
   ]
  },
  {
   "cell_type": "code",
   "execution_count": 3,
   "metadata": {},
   "outputs": [],
   "source": [
    "# import math\n",
    "# import keras.backend as K\n",
    "# import numpy as np\n",
    "from tensorflow.python.client import device_lib"
   ]
  },
  {
   "cell_type": "code",
   "execution_count": null,
   "metadata": {},
   "outputs": [],
   "source": [
    "import import_ipynb"
   ]
  },
  {
   "cell_type": "code",
   "execution_count": null,
   "metadata": {},
   "outputs": [],
   "source": [
    "from config import epsilon, epsilon_sqr\n",
    "from config import img_cols\n",
    "from config import img_rows\n",
    "from config import unknown_code"
   ]
  },
  {
   "cell_type": "code",
   "execution_count": null,
   "metadata": {},
   "outputs": [],
   "source": [
    "def overall_loss(y_true, y_pred):\n",
    "    w_l = 0.5\n",
    "    return w_l * alpha_prediction_loss(y_true, y_pred) + (1 - w_l) * compositional_loss(y_true, y_pred)"
   ]
  },
  {
   "cell_type": "code",
   "execution_count": null,
   "metadata": {},
   "outputs": [],
   "source": [
    "def alpha_prediction_loss(y_true, y_pred):\n",
    "    mask = y_true[:, :, :, 1]\n",
    "    diff = y_pred[:, :, :, 0] - y_true[:, :, :, 0]\n",
    "    diff = diff * mask\n",
    "    num_pixels = K.sum(mask)\n",
    "    return K.sum(K.sqrt(K.square(diff) + epsilon_sqr)) / (num_pixels + epsilon)"
   ]
  },
  {
   "cell_type": "code",
   "execution_count": null,
   "metadata": {},
   "outputs": [],
   "source": [
    "def compositional_loss(y_true, y_pred):\n",
    "    mask = y_true[:, :, :, 1]\n",
    "    mask = K.reshape(mask, (-1, img_rows, img_cols, 1))\n",
    "    image = y_true[:, :, :, 2:5]\n",
    "    fg = y_true[:, :, :, 5:8]\n",
    "    bg = y_true[:, :, :, 8:11]\n",
    "    c_g = image\n",
    "    c_p = y_pred * fg + (1.0 - y_pred) * bg\n",
    "    diff = c_p - c_g\n",
    "    diff = diff * mask\n",
    "    num_pixels = K.sum(mask)\n",
    "    return K.sum(K.sqrt(K.square(diff) + epsilon_sqr)) / (num_pixels + epsilon)"
   ]
  },
  {
   "cell_type": "code",
   "execution_count": null,
   "metadata": {},
   "outputs": [],
   "source": [
    "def compute_mse_loss(pred, target, trimap):\n",
    "    error_map = (pred - target) / 255.\n",
    "    mask = np.equal(trimap, unknown_code).astype(np.float32)\n",
    "    # print('unknown: ' + str(unknown))\n",
    "    loss = np.sum(np.square(error_map) * mask) / np.sum(mask)\n",
    "    # print('mse_loss: ' + str(loss))\n",
    "    return loss"
   ]
  },
  {
   "cell_type": "code",
   "execution_count": null,
   "metadata": {},
   "outputs": [],
   "source": [
    "def compute_sad_loss(pred, target, trimap):\n",
    "    error_map = np.abs(pred - target) / 255.\n",
    "    mask = np.equal(trimap, unknown_code).astype(np.float32)\n",
    "    loss = np.sum(error_map * mask)\n",
    "\n",
    "    # the loss is scaled by 1000 due to the large images used in our experiment.\n",
    "    loss = loss / 1000\n",
    "    # print('sad_loss: ' + str(loss))\n",
    "    return loss"
   ]
  },
  {
   "cell_type": "code",
   "execution_count": 4,
   "metadata": {},
   "outputs": [],
   "source": [
    "def get_available_gpus():\n",
    "    local_device_protos = device_lib.list_local_devices()\n",
    "    return [x.name for x in local_device_protos if x.device_type == 'GPU']"
   ]
  },
  {
   "cell_type": "code",
   "execution_count": 5,
   "metadata": {},
   "outputs": [],
   "source": [
    "x = get_available_gpus()"
   ]
  },
  {
   "cell_type": "code",
   "execution_count": 6,
   "metadata": {},
   "outputs": [
    {
     "data": {
      "text/plain": [
       "[]"
      ]
     },
     "execution_count": 6,
     "metadata": {},
     "output_type": "execute_result"
    }
   ],
   "source": [
    "x"
   ]
  },
  {
   "cell_type": "code",
   "execution_count": null,
   "metadata": {},
   "outputs": [],
   "source": [
    "def get_available_cpus():\n",
    "    return multiprocessing.cpu_count()"
   ]
  },
  {
   "cell_type": "code",
   "execution_count": null,
   "metadata": {},
   "outputs": [],
   "source": [
    "def get_final_output(out, trimap):\n",
    "    mask = np.equal(trimap, unknown_code).astype(np.float32)\n",
    "    return (1 - mask) * trimap + mask * out"
   ]
  },
  {
   "cell_type": "code",
   "execution_count": null,
   "metadata": {},
   "outputs": [],
   "source": [
    "def patch_dims(mat_size, patch_size):\n",
    "    return np.ceil(np.array(mat_size) / patch_size).astype(int)"
   ]
  },
  {
   "cell_type": "code",
   "execution_count": null,
   "metadata": {},
   "outputs": [],
   "source": [
    "def create_patches(mat, patch_size):\n",
    "    mat_size = mat.shape\n",
    "    assert len(mat_size) == 3, \"Input mat need to have 4 channels (R, G, B, trimap)\"\n",
    "    assert mat_size[-1] == 4 , \"Input mat need to have 4 channels (R, G, B, trimap)\"\n",
    "\n",
    "    patches_dim = patch_dims(mat_size=mat_size[:2], patch_size=patch_size)\n",
    "    patches_count = np.product(patches_dim)\n",
    "\n",
    "    patches = np.zeros(shape=(patches_count, patch_size, patch_size, 4), dtype=np.float32)\n",
    "    for y in range(patches_dim[0]):\n",
    "        y_start = y * patch_size\n",
    "        for x in range(patches_dim[1]):\n",
    "            x_start = x * patch_size\n",
    "\n",
    "            # extract patch from input mat\n",
    "            single_patch = mat[y_start: y_start + patch_size, x_start: x_start + patch_size, :]\n",
    "\n",
    "            # zero pad patch in bottom and right side if real patch size is smaller than patch size\n",
    "            real_patch_h, real_patch_w = single_patch.shape[:2]\n",
    "            patch_id = y + x * patches_dim[0]\n",
    "            patches[patch_id, :real_patch_h, :real_patch_w, :] = single_patch\n",
    "\n",
    "    return patches"
   ]
  },
  {
   "cell_type": "code",
   "execution_count": null,
   "metadata": {},
   "outputs": [],
   "source": [
    "def assemble_patches(pred_patches, mat_size, patch_size):\n",
    "    patch_dim_h, patch_dim_w = patch_dims(mat_size=mat_size, patch_size=patch_size)\n",
    "    result = np.zeros(shape=(patch_size * patch_dim_h, patch_size * patch_dim_w), dtype=np.uint8)\n",
    "    patches_count = pred_patches.shape[0]\n",
    "\n",
    "    for i in range(patches_count):\n",
    "        y = (i % patch_dim_h) * patch_size\n",
    "        x = int(math.floor(i / patch_dim_h)) * patch_size\n",
    "\n",
    "        result[y:y+patch_size, x:x+patch_size] = pred_patches[i]\n",
    "\n",
    "    return result"
   ]
  },
  {
   "cell_type": "code",
   "execution_count": null,
   "metadata": {},
   "outputs": [],
   "source": [
    "def safe_crop(mat, x, y, crop_size=(img_rows, img_cols)):\n",
    "    crop_height, crop_width = crop_size\n",
    "    if len(mat.shape) == 2:\n",
    "        ret = np.zeros((crop_height, crop_width), np.float32)\n",
    "    else:\n",
    "        ret = np.zeros((crop_height, crop_width, 3), np.float32)\n",
    "    crop = mat[y:y + crop_height, x:x + crop_width]\n",
    "    h, w = crop.shape[:2]\n",
    "    ret[0:h, 0:w] = crop\n",
    "    if crop_size != (img_rows, img_cols):\n",
    "        ret = cv2.resize(ret, dsize=(img_rows, img_cols), interpolation=cv2.INTER_NEAREST)\n",
    "    return ret"
   ]
  },
  {
   "cell_type": "code",
   "execution_count": null,
   "metadata": {},
   "outputs": [],
   "source": [
    "def draw_str(dst, target, s):\n",
    "    x, y = target\n",
    "    cv2.putText(dst, s, (x + 1, y + 1), cv2.FONT_HERSHEY_PLAIN, 1.0, (0, 0, 0), thickness=2, lineType=cv2.LINE_AA)\n",
    "    cv2.putText(dst, s, (x, y), cv2.FONT_HERSHEY_PLAIN, 1.0, (255, 255, 255), lineType=cv2.LINE_AA)"
   ]
  }
 ],
 "metadata": {
  "kernelspec": {
   "display_name": "Python 3",
   "language": "python",
   "name": "python3"
  },
  "language_info": {
   "codemirror_mode": {
    "name": "ipython",
    "version": 3
   },
   "file_extension": ".py",
   "mimetype": "text/x-python",
   "name": "python",
   "nbconvert_exporter": "python",
   "pygments_lexer": "ipython3",
   "version": "3.6.10"
  }
 },
 "nbformat": 4,
 "nbformat_minor": 4
}
