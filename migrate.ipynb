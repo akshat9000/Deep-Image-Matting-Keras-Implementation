{
 "cells": [
  {
   "cell_type": "code",
   "execution_count": 1,
   "metadata": {},
   "outputs": [
    {
     "name": "stderr",
     "output_type": "stream",
     "text": [
      "Using TensorFlow backend.\n"
     ]
    }
   ],
   "source": [
    "import keras.backend as K\n",
    "import numpy as np"
   ]
  },
  {
   "cell_type": "code",
   "execution_count": 2,
   "metadata": {},
   "outputs": [],
   "source": [
    "import import_ipynb"
   ]
  },
  {
   "cell_type": "code",
   "execution_count": 3,
   "metadata": {},
   "outputs": [
    {
     "name": "stdout",
     "output_type": "stream",
     "text": [
      "importing Jupyter notebook from config.ipynb\n",
      "importing Jupyter notebook from model.ipynb\n",
      "importing Jupyter notebook from unpooling_layer.ipynb\n",
      "importing Jupyter notebook from vgg16.ipynb\n"
     ]
    }
   ],
   "source": [
    "from config import channel\n",
    "from model import build_encoder_decoder\n",
    "from vgg16 import vgg16_model"
   ]
  },
  {
   "cell_type": "code",
   "execution_count": 4,
   "metadata": {},
   "outputs": [],
   "source": [
    "def migrate_model(new_model):\n",
    "    old_model = vgg16_model(224, 224, 3)\n",
    "    # print(old_model.summary())\n",
    "    old_layers = [l for l in old_model.layers]\n",
    "    new_layers = [l for l in new_model.layers]\n",
    "\n",
    "    old_conv1_1 = old_model.get_layer('conv1_1')\n",
    "    old_weights = old_conv1_1.get_weights()[0]\n",
    "    old_biases = old_conv1_1.get_weights()[1]\n",
    "    new_weights = np.zeros((3, 3, channel, 64), dtype=np.float32)\n",
    "    new_weights[:, :, 0:3, :] = old_weights\n",
    "    new_weights[:, :, 3:channel, :] = 0.0\n",
    "    new_conv1_1 = new_model.get_layer('conv1_1')\n",
    "    new_conv1_1.set_weights([new_weights, old_biases])\n",
    "\n",
    "    for i in range(2, 31):\n",
    "        old_layer = old_layers[i]\n",
    "        new_layer = new_layers[i + 1]\n",
    "        new_layer.set_weights(old_layer.get_weights())\n",
    "\n",
    "    # flatten = old_model.get_layer('flatten')\n",
    "    # f_dim = flatten.input_shape\n",
    "    # print('f_dim: ' + str(f_dim))\n",
    "    # old_dense1 = old_model.get_layer('dense1')\n",
    "    # input_shape = old_dense1.input_shape\n",
    "    # output_dim = old_dense1.get_weights()[1].shape[0]\n",
    "    # print('output_dim: ' + str(output_dim))\n",
    "    # W, b = old_dense1.get_weights()\n",
    "    # shape = (7, 7, 512, output_dim)\n",
    "    # new_W = W.reshape(shape)\n",
    "    # new_conv6 = new_model.get_layer('conv6')\n",
    "    # new_conv6.set_weights([new_W, b])\n",
    "\n",
    "    del old_model"
   ]
  },
  {
   "cell_type": "code",
   "execution_count": null,
   "metadata": {},
   "outputs": [],
   "source": []
  }
 ],
 "metadata": {
  "kernelspec": {
   "display_name": "Python 3",
   "language": "python",
   "name": "python3"
  },
  "language_info": {
   "codemirror_mode": {
    "name": "ipython",
    "version": 3
   },
   "file_extension": ".py",
   "mimetype": "text/x-python",
   "name": "python",
   "nbconvert_exporter": "python",
   "pygments_lexer": "ipython3",
   "version": "3.6.10"
  }
 },
 "nbformat": 4,
 "nbformat_minor": 4
}
