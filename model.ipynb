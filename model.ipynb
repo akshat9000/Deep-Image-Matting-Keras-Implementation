{
 "cells": [
  {
   "cell_type": "code",
   "execution_count": 1,
   "metadata": {},
   "outputs": [
    {
     "name": "stderr",
     "output_type": "stream",
     "text": [
      "Using TensorFlow backend.\n"
     ]
    }
   ],
   "source": [
    "import keras.backend as K\n",
    "import tensorflow as tf"
   ]
  },
  {
   "cell_type": "code",
   "execution_count": 2,
   "metadata": {},
   "outputs": [],
   "source": [
    "from keras.layers import Input, Conv2D, UpSampling2D, BatchNormalization, ZeroPadding2D, MaxPooling2D, Concatenate, Reshape, Lambda\n",
    "from keras.models import Model\n",
    "from keras.utils import multi_gpu_model\n",
    "from keras.utils import plot_model"
   ]
  },
  {
   "cell_type": "code",
   "execution_count": 3,
   "metadata": {},
   "outputs": [],
   "source": [
    "import import_ipynb"
   ]
  },
  {
   "cell_type": "code",
   "execution_count": 4,
   "metadata": {},
   "outputs": [
    {
     "name": "stdout",
     "output_type": "stream",
     "text": [
      "importing Jupyter notebook from unpooling_layer.ipynb\n"
     ]
    }
   ],
   "source": [
    "from unpooling_layer import Unpooling"
   ]
  },
  {
   "cell_type": "code",
   "execution_count": 5,
   "metadata": {},
   "outputs": [],
   "source": [
    "def build_encoder_decoder():\n",
    "    # Encoder\n",
    "    input_tensor = Input(shape=(320, 320, 4))\n",
    "    x = ZeroPadding2D((1, 1))(input_tensor)\n",
    "    x = Conv2D(64, (3, 3), activation='relu', name='conv1_1')(x)\n",
    "    x = ZeroPadding2D((1, 1))(x)\n",
    "    x = Conv2D(64, (3, 3), activation='relu', name='conv1_2')(x)\n",
    "    orig_1 = x\n",
    "    x = MaxPooling2D((2, 2), strides=(2, 2))(x)\n",
    "\n",
    "    x = ZeroPadding2D((1, 1))(x)\n",
    "    x = Conv2D(128, (3, 3), activation='relu', name='conv2_1')(x)\n",
    "    x = ZeroPadding2D((1, 1))(x)\n",
    "    x = Conv2D(128, (3, 3), activation='relu', name='conv2_2')(x)\n",
    "    orig_2 = x\n",
    "    x = MaxPooling2D((2, 2), strides=(2, 2))(x)\n",
    "\n",
    "    x = ZeroPadding2D((1, 1))(x)\n",
    "    x = Conv2D(256, (3, 3), activation='relu', name='conv3_1')(x)\n",
    "    x = ZeroPadding2D((1, 1))(x)\n",
    "    x = Conv2D(256, (3, 3), activation='relu', name='conv3_2')(x)\n",
    "    x = ZeroPadding2D((1, 1))(x)\n",
    "    x = Conv2D(256, (3, 3), activation='relu', name='conv3_3')(x)\n",
    "    orig_3 = x\n",
    "    x = MaxPooling2D((2, 2), strides=(2, 2))(x)\n",
    "\n",
    "    x = ZeroPadding2D((1, 1))(x)\n",
    "    x = Conv2D(512, (3, 3), activation='relu', name='conv4_1')(x)\n",
    "    x = ZeroPadding2D((1, 1))(x)\n",
    "    x = Conv2D(512, (3, 3), activation='relu', name='conv4_2')(x)\n",
    "    x = ZeroPadding2D((1, 1))(x)\n",
    "    x = Conv2D(512, (3, 3), activation='relu', name='conv4_3')(x)\n",
    "    orig_4 = x\n",
    "    x = MaxPooling2D((2, 2), strides=(2, 2))(x)\n",
    "\n",
    "    x = ZeroPadding2D((1, 1))(x)\n",
    "    x = Conv2D(512, (3, 3), activation='relu', name='conv5_1')(x)\n",
    "    x = ZeroPadding2D((1, 1))(x)\n",
    "    x = Conv2D(512, (3, 3), activation='relu', name='conv5_2')(x)\n",
    "    x = ZeroPadding2D((1, 1))(x)\n",
    "    x = Conv2D(512, (3, 3), activation='relu', name='conv5_3')(x)\n",
    "    orig_5 = x\n",
    "    x = MaxPooling2D((2, 2), strides=(2, 2))(x)\n",
    "\n",
    "    # Decoder\n",
    "    # x = Conv2D(4096, (7, 7), activation='relu', padding='valid', name='conv6')(x)\n",
    "    # x = BatchNormalization()(x)\n",
    "    # x = UpSampling2D(size=(7, 7))(x)\n",
    "\n",
    "    x = Conv2D(512, (1, 1), activation='relu', padding='same', name='deconv6', kernel_initializer='he_normal',\n",
    "               bias_initializer='zeros')(x)\n",
    "    x = BatchNormalization()(x)\n",
    "    x = UpSampling2D(size=(2, 2))(x)\n",
    "    the_shape = K.int_shape(orig_5)\n",
    "    shape = (1, the_shape[1], the_shape[2], the_shape[3])\n",
    "    origReshaped = Reshape(shape)(orig_5)\n",
    "    # print('origReshaped.shape: ' + str(K.int_shape(origReshaped)))\n",
    "    xReshaped = Reshape(shape)(x)\n",
    "    # print('xReshaped.shape: ' + str(K.int_shape(xReshaped)))\n",
    "    together = Concatenate(axis=1)([origReshaped, xReshaped])\n",
    "    # print('together.shape: ' + str(K.int_shape(together)))\n",
    "    x = Unpooling()(together)\n",
    "\n",
    "    x = Conv2D(512, (5, 5), activation='relu', padding='same', name='deconv5', kernel_initializer='he_normal',\n",
    "               bias_initializer='zeros')(x)\n",
    "    x = BatchNormalization()(x)\n",
    "    x = UpSampling2D(size=(2, 2))(x)\n",
    "    the_shape = K.int_shape(orig_4)\n",
    "    shape = (1, the_shape[1], the_shape[2], the_shape[3])\n",
    "    origReshaped = Reshape(shape)(orig_4)\n",
    "    xReshaped = Reshape(shape)(x)\n",
    "    together = Concatenate(axis=1)([origReshaped, xReshaped])\n",
    "    x = Unpooling()(together)\n",
    "\n",
    "    x = Conv2D(256, (5, 5), activation='relu', padding='same', name='deconv4', kernel_initializer='he_normal',\n",
    "               bias_initializer='zeros')(x)\n",
    "    x = BatchNormalization()(x)\n",
    "    x = UpSampling2D(size=(2, 2))(x)\n",
    "    the_shape = K.int_shape(orig_3)\n",
    "    shape = (1, the_shape[1], the_shape[2], the_shape[3])\n",
    "    origReshaped = Reshape(shape)(orig_3)\n",
    "    xReshaped = Reshape(shape)(x)\n",
    "    together = Concatenate(axis=1)([origReshaped, xReshaped])\n",
    "    x = Unpooling()(together)\n",
    "\n",
    "    x = Conv2D(128, (5, 5), activation='relu', padding='same', name='deconv3', kernel_initializer='he_normal',\n",
    "               bias_initializer='zeros')(x)\n",
    "    x = BatchNormalization()(x)\n",
    "    x = UpSampling2D(size=(2, 2))(x)\n",
    "    the_shape = K.int_shape(orig_2)\n",
    "    shape = (1, the_shape[1], the_shape[2], the_shape[3])\n",
    "    origReshaped = Reshape(shape)(orig_2)\n",
    "    xReshaped = Reshape(shape)(x)\n",
    "    together = Concatenate(axis=1)([origReshaped, xReshaped])\n",
    "    x = Unpooling()(together)\n",
    "\n",
    "    x = Conv2D(64, (5, 5), activation='relu', padding='same', name='deconv2', kernel_initializer='he_normal',\n",
    "               bias_initializer='zeros')(x)\n",
    "    x = BatchNormalization()(x)\n",
    "    x = UpSampling2D(size=(2, 2))(x)\n",
    "    the_shape = K.int_shape(orig_1)\n",
    "    shape = (1, the_shape[1], the_shape[2], the_shape[3])\n",
    "    origReshaped = Reshape(shape)(orig_1)\n",
    "    xReshaped = Reshape(shape)(x)\n",
    "    together = Concatenate(axis=1)([origReshaped, xReshaped])\n",
    "    x = Unpooling()(together)\n",
    "    x = Conv2D(64, (5, 5), activation='relu', padding='same', name='deconv1', kernel_initializer='he_normal',\n",
    "               bias_initializer='zeros')(x)\n",
    "    x = BatchNormalization()(x)\n",
    "\n",
    "    x = Conv2D(1, (5, 5), activation='sigmoid', padding='same', name='pred', kernel_initializer='he_normal',\n",
    "               bias_initializer='zeros')(x)\n",
    "\n",
    "    model = Model(inputs=input_tensor, outputs=x)\n",
    "    return model"
   ]
  },
  {
   "cell_type": "code",
   "execution_count": 6,
   "metadata": {},
   "outputs": [],
   "source": [
    "def build_refinement(encoder_decoder):\n",
    "    input_tensor = encoder_decoder.input\n",
    "\n",
    "    input = Lambda(lambda i: i[:, :, :, 0:3])(input_tensor)\n",
    "\n",
    "    x = Concatenate(axis=3)([input, encoder_decoder.output])\n",
    "    x = Conv2D(64, (3, 3), activation='relu', padding='same', kernel_initializer='he_normal',\n",
    "               bias_initializer='zeros')(x)\n",
    "    x = BatchNormalization()(x)\n",
    "    x = Conv2D(64, (3, 3), activation='relu', padding='same', kernel_initializer='he_normal',\n",
    "               bias_initializer='zeros')(x)\n",
    "    x = BatchNormalization()(x)\n",
    "    x = Conv2D(64, (3, 3), activation='relu', padding='same', kernel_initializer='he_normal',\n",
    "               bias_initializer='zeros')(x)\n",
    "    x = BatchNormalization()(x)\n",
    "    x = Conv2D(1, (3, 3), activation='sigmoid', padding='same', name='refinement_pred', kernel_initializer='he_normal',\n",
    "               bias_initializer='zeros')(x)\n",
    "\n",
    "    model = Model(inputs=input_tensor, outputs=x)\n",
    "    return model"
   ]
  },
  {
   "cell_type": "code",
   "execution_count": null,
   "metadata": {},
   "outputs": [],
   "source": []
  }
 ],
 "metadata": {
  "kernelspec": {
   "display_name": "Python 3",
   "language": "python",
   "name": "python3"
  },
  "language_info": {
   "codemirror_mode": {
    "name": "ipython",
    "version": 3
   },
   "file_extension": ".py",
   "mimetype": "text/x-python",
   "name": "python",
   "nbconvert_exporter": "python",
   "pygments_lexer": "ipython3",
   "version": "3.6.10"
  }
 },
 "nbformat": 4,
 "nbformat_minor": 4
}
