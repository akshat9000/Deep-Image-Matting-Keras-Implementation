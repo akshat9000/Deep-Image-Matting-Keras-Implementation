{
 "cells": [
  {
   "cell_type": "code",
   "execution_count": null,
   "metadata": {},
   "outputs": [],
   "source": [
    "import math\n",
    "import os\n",
    "import random\n",
    "from random import shuffle"
   ]
  },
  {
   "cell_type": "code",
   "execution_count": null,
   "metadata": {},
   "outputs": [],
   "source": [
    "import cv2\n",
    "import numpy as np\n",
    "from keras.utils import Sequence"
   ]
  },
  {
   "cell_type": "code",
   "execution_count": null,
   "metadata": {},
   "outputs": [],
   "source": [
    "import import_ipynb"
   ]
  },
  {
   "cell_type": "code",
   "execution_count": null,
   "metadata": {},
   "outputs": [],
   "source": [
    "from config import batch_size\n",
    "from config import fg_path, bg_path, a_path\n",
    "from config import img_cols, img_rows\n",
    "from config import unknown_code\n",
    "from utils import safe_crop"
   ]
  },
  {
   "cell_type": "code",
   "execution_count": null,
   "metadata": {},
   "outputs": [],
   "source": [
    "kernel = cv2.getStructuringElement(cv.MORPH_ELLIPSE, (3, 3))\n",
    "with open('data/Combined_Dataset/Training_set/training_fg_names.txt') as f:\n",
    "    fg_files = f.read().splitlines()\n",
    "with open('data/Combined_Dataset/Test_set/test_fg_names.txt') as f:\n",
    "    fg_test_files = f.read().splitlines()\n",
    "with open('data/Combined_Dataset/Training_set/training_bg_names.txt') as f:\n",
    "    bg_files = f.read().splitlines()\n",
    "with open('data/Combined_Dataset/Test_set/test_bg_names.txt') as f:\n",
    "    bg_test_files = f.read().splitlines()"
   ]
  },
  {
   "cell_type": "code",
   "execution_count": null,
   "metadata": {},
   "outputs": [],
   "source": [
    "def get_alpha(name):\n",
    "    filename = '/content/gdrive/My Drive/DIM/alpha/{}.jpg'.format(name)\n",
    "    alpha = cv2.imread(filename, 0)\n",
    "    return alpha"
   ]
  },
  {
   "cell_type": "code",
   "execution_count": null,
   "metadata": {},
   "outputs": [],
   "source": [
    "def composite4(fg, bg, a, w, h):\n",
    "    fg = np.array(fg, np.float32)\n",
    "    bg_h, bg_w = bg.shape[:2]\n",
    "    x = 0\n",
    "    if bg_w > w:\n",
    "        x = np.random.randint(0, bg_w - w)\n",
    "    y = 0\n",
    "    if bg_h > h:\n",
    "        y = np.random.randint(0, bg_h - h)\n",
    "    bg = np.array(bg[y:y + h, x:x + w], np.float32)\n",
    "    alpha = np.zeros((h, w, 1), np.float32)\n",
    "    alpha[:, :, 0] = a / 255.\n",
    "    im = alpha * fg + (1 - alpha) * bg\n",
    "    im = im.astype(np.uint8)\n",
    "    return im, a, fg, bg"
   ]
  },
  {
   "cell_type": "code",
   "execution_count": null,
   "metadata": {},
   "outputs": [],
   "source": [
    "def process(im_name, bg_name):\n",
    "    im = cv2.imread('{}/{}.jpg'.format(fg_path,im_name))\n",
    "    im = cv2.cvtColor(im,cv2.COLOR_BGR2RGB)\n",
    "    a = cv2.imread('{}/{}.jpg'.format(a_path,im_name), 0)\n",
    "    h, w = im.shape[:2]\n",
    "    bg = cv2.imread('{}/{}.jpg'.format(bg_path,bg_name))\n",
    "    bh, bw = bg.shape[:2]\n",
    "    wratio = w / bw\n",
    "    hratio = h / bh\n",
    "    ratio = wratio if wratio > hratio else hratio\n",
    "    if ratio > 1:\n",
    "        bg = cv2.resize(src=bg, dsize=(math.ceil(bw * ratio), math.ceil(bh * ratio)), interpolation=cv2.INTER_CUBIC)\n",
    "\n",
    "    return composite4(im, bg, a, w, h)"
   ]
  },
  {
   "cell_type": "code",
   "execution_count": null,
   "metadata": {},
   "outputs": [],
   "source": [
    "def generate_trimap(alpha):\n",
    "    fg = np.array(np.equal(alpha, 255).astype(np.float32))\n",
    "    # fg = cv.erode(fg, kernel, iterations=np.random.randint(1, 3))\n",
    "    unknown = np.array(np.not_equal(alpha, 0).astype(np.float32))\n",
    "    unknown = cv2.dilate(unknown, kernel, iterations=np.random.randint(1, 20))\n",
    "    trimap = fg * 255 + (unknown - fg) * 128\n",
    "    return trimap.astype(np.uint8)"
   ]
  },
  {
   "cell_type": "code",
   "execution_count": null,
   "metadata": {},
   "outputs": [],
   "source": [
    "def random_choice(trimap, crop_size=(320, 320)):\n",
    "    crop_height, crop_width = crop_size\n",
    "    y_indices, x_indices = np.where(trimap == unknown_code)\n",
    "    num_unknowns = len(y_indices)\n",
    "    x, y = 0, 0\n",
    "    if num_unknowns > 0:\n",
    "        ix = np.random.choice(range(num_unknowns))\n",
    "        center_x = x_indices[ix]\n",
    "        center_y = y_indices[ix]\n",
    "        x = max(0, center_x - int(crop_width / 2))\n",
    "        y = max(0, center_y - int(crop_height / 2))\n",
    "    return x, y"
   ]
  },
  {
   "cell_type": "code",
   "execution_count": null,
   "metadata": {},
   "outputs": [],
   "source": [
    "class DataGenSequence(Sequence):\n",
    "    def __init__(self, usage):\n",
    "        self.usage = usage\n",
    "\n",
    "        filename = '/content/gdrive/My Drive/DIM/{}.txt'.format(usage)\n",
    "        with open(filename, 'r') as f:\n",
    "            self.names = f.read().splitlines()\n",
    "\n",
    "        np.random.shuffle(self.names)\n",
    "\n",
    "    def __len__(self):\n",
    "        return int(np.ceil(len(self.names) / float(batch_size)))\n",
    "\n",
    "    def __getitem__(self, idx):\n",
    "        i = idx * batch_size\n",
    "\n",
    "        length = min(batch_size, (len(self.names) - i))\n",
    "        batch_x = np.empty((length, img_rows, img_cols, 4), dtype=np.float32)\n",
    "        batch_y = np.empty((length, img_rows, img_cols, 11), dtype=np.float32)\n",
    "\n",
    "        for i_batch in range(length):\n",
    "            name = self.names[i]\n",
    "            im_name = name.split('_')[0]\n",
    "            bg_name = name.split('_')[1]\n",
    "            image, alpha, fg, bg = process(im_name, bg_name)\n",
    "\n",
    "            # crop size 320:640:480 = 1:1:1\n",
    "            different_sizes = [(320, 320), (480, 480), (640, 640)]\n",
    "            crop_size = random.choice(different_sizes)\n",
    "\n",
    "            trimap = generate_trimap(alpha)\n",
    "            x, y = random_choice(trimap, crop_size)\n",
    "            image = safe_crop(image, x, y, crop_size)\n",
    "            alpha = safe_crop(alpha, x, y, crop_size)\n",
    "            fg = safe_crop(fg, x, y, crop_size)\n",
    "            bg = safe_crop(bg, x, y, crop_size)\n",
    "\n",
    "            trimap = generate_trimap(alpha)\n",
    "\n",
    "            # Flip array left to right randomly (prob=1:1)\n",
    "            if np.random.random_sample() > 0.5:\n",
    "                image = np.fliplr(image)\n",
    "                trimap = np.fliplr(trimap)\n",
    "                alpha = np.fliplr(alpha)\n",
    "                fg = np.fliplr(fg)\n",
    "                bg = np.fliplr(bg)\n",
    "\n",
    "            batch_x[i_batch, :, :, 0:3] = image / 255.\n",
    "            batch_x[i_batch, :, :, 3] = trimap / 255.\n",
    "\n",
    "            mask = np.equal(trimap, 128).astype(np.float32)\n",
    "            batch_y[i_batch, :, :, 0] = alpha / 255.\n",
    "            batch_y[i_batch, :, :, 1] = mask\n",
    "            batch_y[i_batch, :, :, 2:5] = image / 255.\n",
    "            batch_y[i_batch, :, :, 5:8] = fg / 255.\n",
    "            batch_y[i_batch, :, :, 8:11] = bg / 255.\n",
    "\n",
    "            i += 1\n",
    "\n",
    "        return batch_x, batch_y\n",
    "\n",
    "    def on_epoch_end(self):\n",
    "        np.random.shuffle(self.names)"
   ]
  },
  {
   "cell_type": "code",
   "execution_count": null,
   "metadata": {},
   "outputs": [],
   "source": [
    "def train_gen(name='train'):\n",
    "    return DataGenSequence(name)\n",
    "\n",
    "def valid_gen(name='valid'):\n",
    "    return DataGenSequence(name)"
   ]
  }
 ],
 "metadata": {
  "kernelspec": {
   "display_name": "Python 3",
   "language": "python",
   "name": "python3"
  },
  "language_info": {
   "codemirror_mode": {
    "name": "ipython",
    "version": 3
   },
   "file_extension": ".py",
   "mimetype": "text/x-python",
   "name": "python",
   "nbconvert_exporter": "python",
   "pygments_lexer": "ipython3",
   "version": "3.6.10"
  }
 },
 "nbformat": 4,
 "nbformat_minor": 4
}
